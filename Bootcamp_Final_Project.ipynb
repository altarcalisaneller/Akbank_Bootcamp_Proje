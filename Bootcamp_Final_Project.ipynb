{
 "cells": [
  {
   "cell_type": "code",
   "execution_count": 1,
   "id": "7c69c464-5a88-4b1c-8961-380109b298c7",
   "metadata": {},
   "outputs": [],
   "source": [
    "import csv\n",
    "from datetime import datetime\n",
    "from getpass import getpass # required for hiding password input."
   ]
  },
  {
   "cell_type": "code",
   "execution_count": 2,
   "id": "84fdc21e-e3b1-4efb-86e0-45edf3167b9e",
   "metadata": {},
   "outputs": [],
   "source": [
    "#--------superclass--------\n",
    "\n",
    "class Pizza: \n",
    "    def __init__(self, description, cost):\n",
    "        self.description = description\n",
    "        self.cost = cost\n",
    "    \n",
    "    def get_description(self):\n",
    "        return self.description\n",
    "    \n",
    "    def get_cost(self):\n",
    "        return self.cost\n",
    "\n",
    "#--------subclasses (inherit from superclass)--------\n",
    "\n",
    "class Classic(Pizza):\n",
    "    def __init__(self): # I don't need arguments because of defining them as constants. Therefore, super init func is overrided.\n",
    "        self.description = \"Classic Pizza\"\n",
    "        self.cost = 12.0\n",
    "    \n",
    "        \n",
    "class Margherita(Pizza):\n",
    "    def __init__(self):\n",
    "        self.description = \"Margherita Pizza\"\n",
    "        self.cost = 10.0\n",
    "\n",
    "        \n",
    "class TurkPizza(Pizza):\n",
    "    def __init__(self):\n",
    "        self.description = \"Turkish Pizza\"\n",
    "        self.cost = 15.0\n",
    "    \n",
    "\n",
    "class PlainPizza(Pizza):\n",
    "    def __init__(self):\n",
    "        self.description = \"Plain Pizza\"\n",
    "        self.cost = 18.0"
   ]
  },
  {
   "cell_type": "code",
   "execution_count": 3,
   "id": "decd3389-c441-45fc-8bd6-4b9ffabc2e8f",
   "metadata": {},
   "outputs": [],
   "source": [
    "#--------superclass--------\n",
    "\n",
    "class Decorator(Pizza):\n",
    "    def __init__(self, component): # component represents the pizza type. \n",
    "        self.component = component\n",
    "        \n",
    "    def get_cost(self):\n",
    "        return self.cost + Pizza.get_cost(self.component) # self.cost represent the extra item's cost. \n",
    "\n",
    "    def get_description(self):\n",
    "        return self.description + \" \" + Pizza.get_description(self.component)\n",
    "\n",
    "#--------subclasses (inherit from superclass)-------- \n",
    "class Olives(Decorator):\n",
    "    def __init__(self, component):\n",
    "        super().__init__(component) # Alternative code: self.component = component . To use \"super\" would be usefull if func has a lot of arguments.\n",
    "        self.description = \"Olives\"\n",
    "        self.cost = 1.50\n",
    "        \n",
    "class Mushrooms(Decorator):\n",
    "    def __init__(self, component):\n",
    "        super().__init__(component)\n",
    "        self.description = \"Mushrooms\"\n",
    "        self.cost = 1.00\n",
    "\n",
    "\n",
    "class GoatCheese(Decorator):\n",
    "    def __init__(self, component):\n",
    "        super().__init__(component)\n",
    "        self.description = \"Goat Cheese\"\n",
    "        self.cost = 2.00\n",
    "        \n",
    "class Meat(Decorator):\n",
    "    def __init__(self, component):\n",
    "        super().__init__(component)\n",
    "        self.description = \"Meat\"\n",
    "        self.cost = 2.50\n",
    "\n",
    "\n",
    "class Onions(Decorator):\n",
    "    def __init__(self, component):\n",
    "        super().__init__(component)\n",
    "        self.description = \"Onions\"\n",
    "        self.cost = 1.00\n",
    "\n",
    "class Corn(Decorator):\n",
    "    def __init__(self, component):\n",
    "        super().__init__(component)\n",
    "        self.description = \"Corn\"\n",
    "        self.cost = 1.00"
   ]
  },
  {
   "cell_type": "code",
   "execution_count": 4,
   "id": "59b76ada-25d5-49d4-be80-74d8c6c40a4e",
   "metadata": {},
   "outputs": [],
   "source": [
    "def print_menu():\n",
    "    with open('Menu.txt', 'r') as file:\n",
    "        print(file.read())"
   ]
  },
  {
   "cell_type": "code",
   "execution_count": 5,
   "id": "63b35fc2-96fb-4fb9-aac1-1661a01f4c78",
   "metadata": {},
   "outputs": [],
   "source": [
    "def get_pizza_choice():\n",
    "    while True:\n",
    "        choice = int(input(\"Enter your Pizza choice (1-4): \"))\n",
    "        if choice in [0, 1, 2, 3, 4]:\n",
    "            if choice == 0:\n",
    "                print(\"Exiting...\")\n",
    "                return None\n",
    "            elif choice == 1:\n",
    "                return Classic()\n",
    "            elif choice == 2:\n",
    "                return Margherita()\n",
    "            elif choice == 3:\n",
    "                return TurkPizza()\n",
    "            elif choice == 4:\n",
    "                return PlainPizza()\n",
    "        else:\n",
    "            print(\"Invalid choice. Please enter a number between 1 and 4.\")"
   ]
  },
  {
   "cell_type": "code",
   "execution_count": 6,
   "id": "6001ee27-e7fc-4eeb-b126-717f385b4635",
   "metadata": {},
   "outputs": [],
   "source": [
    "def get_sauce_choice(pizza_choice):\n",
    "    while True:\n",
    "        choice = int(input(\"Enter your Sauce choice (11-16): \"))\n",
    "        if choice in [0, 11, 12, 13, 14, 15, 16]:\n",
    "            if choice == 0:\n",
    "                print(\"Exiting...\")\n",
    "                return None\n",
    "            elif choice == 11:\n",
    "                final_pizza = Olives(pizza_choice)\n",
    "            elif choice == 12:\n",
    "                final_pizza = Mushrooms(pizza_choice)\n",
    "            elif choice == 13:\n",
    "                final_pizza = GoatCheese(pizza_choice)\n",
    "            elif choice == 14:\n",
    "                final_pizza = Meat(pizza_choice)\n",
    "            elif choice == 15:\n",
    "                final_pizza = Onions(pizza_choice)\n",
    "            elif choice == 16:\n",
    "                final_pizza = Corn(pizza_choice)\n",
    "            break\n",
    "        else:\n",
    "            print(\"Invalid choice. Please enter a number between 11 and 16.\")\n",
    "    \n",
    "    return final_pizza\n"
   ]
  },
  {
   "cell_type": "code",
   "execution_count": 7,
   "id": "255695c0-8aa9-4ab0-a357-6b9f83da0e3e",
   "metadata": {},
   "outputs": [],
   "source": [
    "def get_customer_info():\n",
    "    name = input(\"Your Name: \")\n",
    "    id_number = input(\"ID: \")\n",
    "    cc_number = input(\"Credit Card No: \")\n",
    "    cc_password = getpass(prompt=\"Password: \")\n",
    "    print(\"That's all ! Hope to see you again !\")\n",
    "    \n",
    "    return name, id_number, cc_number, cc_password\n",
    "    "
   ]
  },
  {
   "cell_type": "code",
   "execution_count": 8,
   "id": "62196d55-a556-4fdc-9d63-0729bc82d64e",
   "metadata": {},
   "outputs": [],
   "source": [
    "def save_database(customer_info, order, bill):\n",
    "     with open(\"Orders_Database.csv\", mode=\"a\", newline=\"\") as file:\n",
    "        writer = csv.writer(file)\n",
    "        timestamp = datetime.now().strftime(\"%d/%m/%Y, %H:%M:%S\")\n",
    "        if file.tell() == 0: # check the pointer is on the first line or not.\n",
    "            writer.writerow([\"Name\", \"ID\", \"Credit Card No\", \"Password\", \"Order\", \"Bill\", \"Timestamp\"])\n",
    "        writer.writerow([*customer_info, order, bill, timestamp])"
   ]
  },
  {
   "cell_type": "code",
   "execution_count": 9,
   "id": "d3d874d4-95c1-467d-8d0b-30a13f146261",
   "metadata": {},
   "outputs": [
    {
     "name": "stdout",
     "output_type": "stream",
     "text": [
      "**** Welcome to Altar's Pizza Restaurant ****\n",
      "\n",
      "* Please Choose a Pizza Base:\n",
      "\n",
      "1: Classic\n",
      "2: Margherita\n",
      "3: TurkPizza\n",
      "4: PlainPizza\n",
      "\n",
      "* and sauce of your choice:\n",
      "\n",
      "11: Olives\n",
      "12: Mushrooms\n",
      "13: GoatCheese\n",
      "14: Meat\n",
      "15: Onions\n",
      "16: Corn\n",
      "\n",
      "0: Exit\n",
      "\n",
      "* Thank you!\n"
     ]
    },
    {
     "name": "stdin",
     "output_type": "stream",
     "text": [
      "Enter your Pizza choice (1-4):  3\n",
      "Enter your Sauce choice (11-16):  14\n"
     ]
    },
    {
     "name": "stdout",
     "output_type": "stream",
     "text": [
      "Your choice is Meat Turkish Pizza and Total Cost is 17.5 USD. Please submit required information below.\n"
     ]
    },
    {
     "name": "stdin",
     "output_type": "stream",
     "text": [
      "Your Name:  Altar\n",
      "ID:  123456\n",
      "Credit Card No:  987654321\n",
      "Password:  ········\n"
     ]
    },
    {
     "name": "stdout",
     "output_type": "stream",
     "text": [
      "That's all ! Hope to see you again !\n"
     ]
    }
   ],
   "source": [
    "def main():\n",
    "    print_menu()\n",
    "    pizza_choice = get_pizza_choice()\n",
    "    if pizza_choice != None:\n",
    "        final_pizza = get_sauce_choice(pizza_choice)\n",
    "        if final_pizza != None:\n",
    "            total_cost = final_pizza.get_cost()\n",
    "            order = final_pizza.get_description()\n",
    "            print(f\"Your choice is {order} and Total Cost is {total_cost} USD. Please submit required information below.\")\n",
    "            customer_info = get_customer_info()\n",
    "            save_database(customer_info, order, total_cost)\n",
    "    else:\n",
    "        return None\n",
    "    \n",
    "if __name__ == \"__main__\":\n",
    "    main()"
   ]
  },
  {
   "cell_type": "code",
   "execution_count": null,
   "id": "a77580bf-efef-49e8-9efc-7e0f6f151109",
   "metadata": {},
   "outputs": [],
   "source": []
  }
 ],
 "metadata": {
  "kernelspec": {
   "display_name": "Python 3 (ipykernel)",
   "language": "python",
   "name": "python3"
  },
  "language_info": {
   "codemirror_mode": {
    "name": "ipython",
    "version": 3
   },
   "file_extension": ".py",
   "mimetype": "text/x-python",
   "name": "python",
   "nbconvert_exporter": "python",
   "pygments_lexer": "ipython3",
   "version": "3.9.13"
  }
 },
 "nbformat": 4,
 "nbformat_minor": 5
}
